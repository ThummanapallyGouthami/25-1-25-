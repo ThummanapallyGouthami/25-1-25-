{
 "cells": [
  {
   "cell_type": "code",
   "execution_count": 24,
   "id": "bd317ddf",
   "metadata": {},
   "outputs": [
    {
     "name": "stdout",
     "output_type": "stream",
     "text": [
      "[10 11 12 13 14 15 16 17 18 19 20 21 22 23 24 25 26 27 28 29 30 31 32 33\n",
      " 34 35 36 37 38 39 40 41 42 43 44 45 46 47 48 49 50]\n"
     ]
    }
   ],
   "source": [
    "# Create a 1D array of numbers from 10 to 50\n",
    "import numpy as np\n",
    "arr = np.arange(10, 51)\n",
    "print(arr)\n"
   ]
  },
  {
   "cell_type": "code",
   "execution_count": 23,
   "id": "af20a085",
   "metadata": {},
   "outputs": [
    {
     "name": "stdout",
     "output_type": "stream",
     "text": [
      "[[0.54052658 0.78808944 0.497304  ]\n",
      " [0.35079189 0.72589949 0.17061251]\n",
      " [0.22701411 0.08195618 0.02845268]]\n"
     ]
    }
   ],
   "source": [
    "# Create a 3x3 array of random numbers between 0 and 1\n",
    "import numpy as np\n",
    "arr = np.random.rand(3, 3)\n",
    "print(arr)\n"
   ]
  },
  {
   "cell_type": "code",
   "execution_count": 19,
   "id": "336c8130",
   "metadata": {},
   "outputs": [
    {
     "name": "stdout",
     "output_type": "stream",
     "text": [
      "Shape: (3, 3)\n",
      "Size: 9\n",
      "Data Type: float64\n"
     ]
    }
   ],
   "source": [
    "#Find the shape, size, and data type of the array you created in the previous task.\n",
    "import numpy as np\n",
    "arr = np.random.rand(3, 3)\n",
    "shape = arr.shape\n",
    "size = arr.size\n",
    "dtype = arr.dtype\n",
    "print(f\"Shape: {shape}\")\n",
    "print(f\"Size: {size}\")\n",
    "print(f\"Data Type: {dtype}\")\n"
   ]
  },
  {
   "cell_type": "code",
   "execution_count": 17,
   "id": "4cbfb51d",
   "metadata": {},
   "outputs": [
    {
     "name": "stdout",
     "output_type": "stream",
     "text": [
      "[ 6  7  8  9 10]\n"
     ]
    }
   ],
   "source": [
    "#Add 5 to every element of a 1D array.\n",
    "import numpy as np\n",
    "arr = np.array([1, 2, 3, 4, 5])\n",
    "arr += 5\n",
    "print(arr)\n"
   ]
  },
  {
   "cell_type": "code",
   "execution_count": 5,
   "id": "8795b1ac",
   "metadata": {},
   "outputs": [
    {
     "name": "stdout",
     "output_type": "stream",
     "text": [
      "[[ 7 16 27]\n",
      " [40 55 72]]\n"
     ]
    }
   ],
   "source": [
    "#Multiply two 2D arrays element-wise.\n",
    "import numpy as np\n",
    "arr1 = np.array([[1, 2, 3], [4, 5, 6]])\n",
    "arr2 = np.array([[7, 8, 9], [10, 11, 12]])\n",
    "result = arr1 * arr2\n",
    "print(result)\n"
   ]
  },
  {
   "cell_type": "code",
   "execution_count": 6,
   "id": "8fe83682",
   "metadata": {},
   "outputs": [
    {
     "name": "stdout",
     "output_type": "stream",
     "text": [
      "Original Array:\n",
      " [[ 1  2  3  4  5]\n",
      " [ 6  7  8  9 10]\n",
      " [11 12 13 14 15]\n",
      " [16 17 18 19 20]\n",
      " [21 22 23 24 25]]\n",
      "\n",
      "First Row:\n",
      " [1 2 3 4 5]\n",
      "\n",
      "Last Column:\n",
      " [ 5 10 15 20 25]\n",
      "\n",
      "Subarray (First 3 rows, First 2 columns):\n",
      " [[ 1  2]\n",
      " [ 6  7]\n",
      " [11 12]]\n"
     ]
    }
   ],
   "source": [
    "\"\"\"Create a 5x5 array of integers from 1 to 25. Extract:\n",
    "The first row.\n",
    "The last column.\n",
    "A subarray of the first three rows and first two columns.\"\"\"\n",
    "\n",
    "import numpy as np\n",
    "arr = np.arange(1, 26).reshape(5, 5)\n",
    "first_row = arr[0, :]\n",
    "last_column = arr[:, -1]\n",
    "subarray = arr[:3, :2]\n",
    "print(\"Original Array:\\n\", arr)\n",
    "print(\"\\nFirst Row:\\n\", first_row)\n",
    "print(\"\\nLast Column:\\n\", last_column)\n",
    "print(\"\\nSubarray (First 3 rows, First 2 columns):\\n\", subarray)\n"
   ]
  },
  {
   "cell_type": "code",
   "execution_count": 7,
   "id": "f618121a",
   "metadata": {},
   "outputs": [
    {
     "name": "stdout",
     "output_type": "stream",
     "text": [
      "Array: [32 85 62 61 37 60 76  3 47 78]\n",
      "Maximum value: 85\n",
      "Minimum value: 3\n",
      "Mean value: 54.1\n",
      "Standard deviation: 23.649312886424415\n"
     ]
    }
   ],
   "source": [
    "\"\"\"Create a 10-element array of random integers between 1 and 100. Find:\n",
    "The maximum value.\n",
    "The minimum value.\n",
    "The mean and standard deviation.\"\"\"\n",
    "import numpy as np\n",
    "arr = np.random.randint(1, 101, size=10)\n",
    "max_value = np.max(arr)\n",
    "min_value = np.min(arr)\n",
    "mean_value = np.mean(arr)\n",
    "std_dev = np.std(arr)\n",
    "print(\"Array:\", arr)\n",
    "print(\"Maximum value:\", max_value)\n",
    "print(\"Minimum value:\", min_value)\n",
    "print(\"Mean value:\", mean_value)\n",
    "print(\"Standard deviation:\", std_dev)\n"
   ]
  },
  {
   "cell_type": "code",
   "execution_count": 13,
   "id": "18d12d50",
   "metadata": {},
   "outputs": [
    {
     "name": "stdout",
     "output_type": "stream",
     "text": [
      "[[ 1  2  3  4]\n",
      " [ 5  6  7  8]\n",
      " [ 9 10 11 12]]\n"
     ]
    }
   ],
   "source": [
    "#Convert a 1D array of numbers from 1 to 12 into a 3x4 matrix.\n",
    "import numpy as np\n",
    "arr = np.arange(1, 13)\n",
    "matrix = arr.reshape(3, 4)\n",
    "print(matrix)\n"
   ]
  },
  {
   "cell_type": "code",
   "execution_count": 21,
   "id": "571264fb",
   "metadata": {},
   "outputs": [
    {
     "name": "stdout",
     "output_type": "stream",
     "text": [
      "[[2. 3. 4.]\n",
      " [2. 3. 4.]\n",
      " [2. 3. 4.]]\n"
     ]
    }
   ],
   "source": [
    "#Create a 3x3 matrix of ones. Add a 1D array [1, 2, 3] to each row.\n",
    "import numpy as np\n",
    "matrix_ones = np.ones((3, 3))\n",
    "arr = np.array([1, 2, 3])\n",
    "result = matrix_ones + arr\n",
    "print(result)\n"
   ]
  },
  {
   "cell_type": "code",
   "execution_count": 15,
   "id": "d1ad8518",
   "metadata": {},
   "outputs": [
    {
     "name": "stdout",
     "output_type": "stream",
     "text": [
      "Array: [ 7 11 22  1 36 17 13 18  6 34]\n",
      "Elements divisible by 5: []\n"
     ]
    }
   ],
   "source": [
    "#Create a 1D array of random integers between 1 and 50. Extract all elements that are divisible by 5.\n",
    "import numpy as np\n",
    "arr = np.random.randint(1, 51, size=10)\n",
    "divisible_by_5 = arr[arr % 5 == 0]\n",
    "print(\"Array:\", arr)\n",
    "print(\"Elements divisible by 5:\", divisible_by_5)\n"
   ]
  },
  {
   "cell_type": "code",
   "execution_count": 16,
   "id": "0e3d1352",
   "metadata": {},
   "outputs": [
    {
     "name": "stdout",
     "output_type": "stream",
     "text": [
      "Matrix 1:\n",
      " [[1 2]\n",
      " [3 4]]\n",
      "Matrix 2:\n",
      " [[5 6]\n",
      " [7 8]]\n",
      "Result of Matrix Multiplication:\n",
      " [[19 22]\n",
      " [43 50]]\n"
     ]
    }
   ],
   "source": [
    "#Create two 2x2 matrices and perform matrix multiplication\n",
    "import numpy as np\n",
    "matrix1 = np.array([[1, 2], [3, 4]])\n",
    "matrix2 = np.array([[5, 6], [7, 8]])\n",
    "result = np.dot(matrix1, matrix2)\n",
    "print(\"Matrix 1:\\n\", matrix1)\n",
    "print(\"Matrix 2:\\n\", matrix2)\n",
    "print(\"Result of Matrix Multiplication:\\n\", result)\n"
   ]
  },
  {
   "cell_type": "code",
   "execution_count": 12,
   "id": "a6070931",
   "metadata": {},
   "outputs": [
    {
     "name": "stdout",
     "output_type": "stream",
     "text": [
      "Original Array:\n",
      " [[ 1  2  3  4]\n",
      " [ 5  6  7  8]\n",
      " [ 9 10 11 12]\n",
      " [13 14 15 16]]\n",
      "\n",
      "Diagonal Elements: [ 1  6 11 16]\n"
     ]
    }
   ],
   "source": [
    "#Given a 4x4 array, use fancy indexing to extract the diagonal elements.\n",
    "import numpy as np\n",
    "arr = np.array([[1, 2, 3, 4],\n",
    "                [5, 6, 7, 8],\n",
    "                [9, 10, 11, 12],\n",
    "                [13, 14, 15, 16]])\n",
    "diagonal_elements = arr[np.arange(4), np.arange(4)]\n",
    "print(\"Original Array:\\n\", arr)\n",
    "print(\"\\nDiagonal Elements:\", diagonal_elements)\n"
   ]
  },
  {
   "cell_type": "code",
   "execution_count": null,
   "id": "935ba8d3",
   "metadata": {},
   "outputs": [],
   "source": []
  }
 ],
 "metadata": {
  "kernelspec": {
   "display_name": "Python 3 (ipykernel)",
   "language": "python",
   "name": "python3"
  },
  "language_info": {
   "codemirror_mode": {
    "name": "ipython",
    "version": 3
   },
   "file_extension": ".py",
   "mimetype": "text/x-python",
   "name": "python",
   "nbconvert_exporter": "python",
   "pygments_lexer": "ipython3",
   "version": "3.10.9"
  }
 },
 "nbformat": 4,
 "nbformat_minor": 5
}
