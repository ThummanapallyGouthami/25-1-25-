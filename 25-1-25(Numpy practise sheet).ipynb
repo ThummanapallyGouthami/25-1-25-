{
 "cells": [
  {
   "cell_type": "code",
   "execution_count": 1,
   "id": "d0d8648d",
   "metadata": {},
   "outputs": [
    {
     "name": "stdout",
     "output_type": "stream",
     "text": [
      "Requirement already satisfied: numpy in c:\\users\\cvr\\anaconda3\\lib\\site-packages (1.24.3)\n",
      "Note: you may need to restart the kernel to use updated packages.\n"
     ]
    }
   ],
   "source": [
    "#numpy deals with numerical data i.e arrays with single or multidimensional\n",
    "#numpy arrays are much faster than traditional lists in python\n",
    "pip install numpy\n"
   ]
  },
  {
   "cell_type": "code",
   "execution_count": 2,
   "id": "b11dd918",
   "metadata": {},
   "outputs": [
    {
     "name": "stdout",
     "output_type": "stream",
     "text": [
      "[1 2 3]\n"
     ]
    }
   ],
   "source": [
    "# 1 dimensional array\n",
    "# array indexing starts from 0\n",
    "import numpy as np\n",
    "arr1d=np.array([1,2,3])\n",
    "print(arr1d)"
   ]
  },
  {
   "cell_type": "code",
   "execution_count": 3,
   "id": "f7ea135d",
   "metadata": {},
   "outputs": [
    {
     "name": "stdout",
     "output_type": "stream",
     "text": [
      "[[1 2 3]\n",
      " [4 5 6]]\n"
     ]
    }
   ],
   "source": [
    "# 2 dimensional array\n",
    "arr2d=np.array([[1,2,3],[4,5,6]])\n",
    "print(arr2d)\n"
   ]
  },
  {
   "cell_type": "code",
   "execution_count": 10,
   "id": "cf27fa00",
   "metadata": {},
   "outputs": [
    {
     "name": "stdout",
     "output_type": "stream",
     "text": [
      "[[0. 0. 0.]\n",
      " [0. 0. 0.]]\n",
      "[[1. 1. 1. 1. 1.]\n",
      " [1. 1. 1. 1. 1.]\n",
      " [1. 1. 1. 1. 1.]\n",
      " [1. 1. 1. 1. 1.]]\n",
      "[[0.20071735 0.65170192]\n",
      " [0.94198164 0.72086423]]\n"
     ]
    }
   ],
   "source": [
    "# numpy array of zeros,ones,random using built in functions\n",
    "zero = np.zeros((2,3))\n",
    "print(zero)\n",
    "ones = np.ones((4,5))\n",
    "print(ones)\n",
    "random_arr = np.random.random((2,2))\n",
    "print(random_arr)\n"
   ]
  },
  {
   "cell_type": "code",
   "execution_count": 7,
   "id": "c01c189e",
   "metadata": {},
   "outputs": [
    {
     "data": {
      "text/plain": [
       "array([[1., 1., 1., 1., 1.],\n",
       "       [1., 1., 1., 1., 1.],\n",
       "       [1., 1., 1., 1., 1.],\n",
       "       [1., 1., 1., 1., 1.]])"
      ]
     },
     "execution_count": 7,
     "metadata": {},
     "output_type": "execute_result"
    }
   ],
   "source": [
    "# ones array\n",
    "ones = np.ones((4,5))\n",
    "ones"
   ]
  },
  {
   "cell_type": "code",
   "execution_count": 8,
   "id": "bc66918a",
   "metadata": {},
   "outputs": [
    {
     "name": "stdout",
     "output_type": "stream",
     "text": [
      "[[0.46489127 0.11492828]\n",
      " [0.93967991 0.99399706]]\n"
     ]
    }
   ],
   "source": [
    "# random array\n",
    "random_arr = np.random.random((2,2))\n",
    "print(random_arr)"
   ]
  },
  {
   "cell_type": "code",
   "execution_count": 11,
   "id": "05da955a",
   "metadata": {},
   "outputs": [
    {
     "name": "stdout",
     "output_type": "stream",
     "text": [
      "[[1. 0. 0. 0.]\n",
      " [0. 1. 0. 0.]\n",
      " [0. 0. 1. 0.]\n",
      " [0. 0. 0. 1.]]\n"
     ]
    }
   ],
   "source": [
    "#identity matrix\n",
    "ident =  np.eye(4)\n",
    "print(ident)"
   ]
  },
  {
   "cell_type": "code",
   "execution_count": 13,
   "id": "211154fc",
   "metadata": {},
   "outputs": [
    {
     "name": "stdout",
     "output_type": "stream",
     "text": [
      "[ 0 10 20 30 40 50 60 70 80 90]\n"
     ]
    }
   ],
   "source": [
    "range_arr = np.arange(0,100,10)# start,stop,step\n",
    "print(range_arr)"
   ]
  },
  {
   "cell_type": "code",
   "execution_count": 14,
   "id": "41b6a2d4",
   "metadata": {},
   "outputs": [
    {
     "name": "stdout",
     "output_type": "stream",
     "text": [
      "shape :  (2, 3)\n",
      "size :  6\n",
      "data type :  int32\n",
      "Number of Dimensions 2\n"
     ]
    }
   ],
   "source": [
    "# Array Attributes\n",
    "arr=np.array([[2,3,4],[5,6,7]])\n",
    "print(\"shape : \",arr.shape)\n",
    "print(\"size : \",arr.size)\n",
    "print(\"data type : \",arr.dtype)\n",
    "print(\"Number of Dimensions\",arr.ndim)"
   ]
  },
  {
   "cell_type": "code",
   "execution_count": 17,
   "id": "6e14946b",
   "metadata": {},
   "outputs": [
    {
     "data": {
      "text/plain": [
       "3"
      ]
     },
     "execution_count": 17,
     "metadata": {},
     "output_type": "execute_result"
    }
   ],
   "source": [
    "#arr[0][1]\n",
    "arr[0,1]"
   ]
  },
  {
   "cell_type": "code",
   "execution_count": 26,
   "id": "67922f8e",
   "metadata": {},
   "outputs": [
    {
     "data": {
      "text/plain": [
       "6"
      ]
     },
     "execution_count": 26,
     "metadata": {},
     "output_type": "execute_result"
    }
   ],
   "source": [
    "#arr[1][1]\n",
    "arr[1,1]"
   ]
  },
  {
   "cell_type": "code",
   "execution_count": 18,
   "id": "e678a978",
   "metadata": {},
   "outputs": [
    {
     "data": {
      "text/plain": [
       "7"
      ]
     },
     "execution_count": 18,
     "metadata": {},
     "output_type": "execute_result"
    }
   ],
   "source": [
    "arr[1,-1]\n"
   ]
  },
  {
   "cell_type": "code",
   "execution_count": 19,
   "id": "5efaf47e",
   "metadata": {},
   "outputs": [
    {
     "data": {
      "text/plain": [
       "array([[3, 4],\n",
       "       [6, 7]])"
      ]
     },
     "execution_count": 19,
     "metadata": {},
     "output_type": "execute_result"
    }
   ],
   "source": [
    "# slicing\n",
    "arr[:,1:]"
   ]
  },
  {
   "cell_type": "code",
   "execution_count": 24,
   "id": "08965141",
   "metadata": {},
   "outputs": [
    {
     "name": "stdout",
     "output_type": "stream",
     "text": [
      "[11 13 15]\n",
      "[28 40 54]\n"
     ]
    }
   ],
   "source": [
    "a = np.array([7,8,9])\n",
    "b= np.array([4,5,6])\n",
    "c=a+b\n",
    "print(c)\n",
    "d=a*b\n",
    "print(d)"
   ]
  },
  {
   "cell_type": "code",
   "execution_count": 30,
   "id": "8e5cbc59",
   "metadata": {},
   "outputs": [
    {
     "name": "stdout",
     "output_type": "stream",
     "text": [
      "[[19 22]\n",
      " [43 50]]\n"
     ]
    }
   ],
   "source": [
    "arr2 = np.array([[1,2],[3,4]])\n",
    "arr3 = np.array([[5,6],[7,8]])\n",
    "#arr4 = arr2 * arr3\n",
    "arr5=np.dot(arr2,arr3)\n",
    "print(arr5)\n",
    "#print(arr4)"
   ]
  },
  {
   "cell_type": "code",
   "execution_count": 36,
   "id": "aee2c89b",
   "metadata": {},
   "outputs": [
    {
     "data": {
      "text/plain": [
       "[<matplotlib.lines.Line2D at 0x28640e54e10>,\n",
       " <matplotlib.lines.Line2D at 0x28640e551d0>]"
      ]
     },
     "execution_count": 36,
     "metadata": {},
     "output_type": "execute_result"
    },
    {
     "data": {
      "image/png": "[encoded data removed]",
      "text/plain": [
       "<Figure size 640x480 with 1 Axes>"
      ]
     },
     "metadata": {},
     "output_type": "display_data"
    }
   ],
   "source": [
    "# plotting graph for arrays\n",
    "import matplotlib.pyplot as plt\n",
    "plt.plot(arr5)\n",
    "#plt.plot(arr2,arr3)"
   ]
  },
  {
   "cell_type": "code",
   "execution_count": 32,
   "id": "8783d3a4",
   "metadata": {},
   "outputs": [
    {
     "name": "stdout",
     "output_type": "stream",
     "text": [
      "[ 2.71828183  7.3890561  20.08553692]\n",
      "[1.         1.41421356 1.73205081]\n",
      "[0.         0.69314718 1.09861229]\n"
     ]
    }
   ],
   "source": [
    "arr =np.array([1,2,3])\n",
    "#Exponentiation\n",
    "print(np.exp(arr))\n",
    "#sqare root\n",
    "print(np.sqrt(arr))\n",
    "#Logarithm\n",
    "print(np.log(arr))\n"
   ]
  },
  {
   "cell_type": "code",
   "execution_count": 33,
   "id": "85e08e12",
   "metadata": {},
   "outputs": [
    {
     "name": "stdout",
     "output_type": "stream",
     "text": [
      "sum :  10\n",
      "Mean :  2.5\n",
      "Standard Deviation :  1.118033988749895\n",
      "Max :  4\n",
      "Min :  1\n"
     ]
    }
   ],
   "source": [
    "# Aggregate functions\n",
    "arr =np.array([1,2,3,4])\n",
    "print(\"sum : \",np.sum(arr))\n",
    "print(\"Mean : \",np.mean(arr))\n",
    "print(\"Standard Deviation : \",np.std(arr))\n",
    "print(\"Max : \",np.max(arr))\n",
    "print(\"Min : \",np.min(arr))\n"
   ]
  },
  {
   "cell_type": "code",
   "execution_count": 35,
   "id": "0208a65a",
   "metadata": {},
   "outputs": [
    {
     "name": "stdout",
     "output_type": "stream",
     "text": [
      "[[1 2 3]\n",
      " [4 5 6]]\n"
     ]
    }
   ],
   "source": [
    "# reshape array\n",
    "arr3 = np.array([1,2,3,4,5,6])\n",
    "arr4 = arr3.reshape(2,3)\n",
    "print(arr4)"
   ]
  },
  {
   "cell_type": "code",
   "execution_count": 37,
   "id": "c412bad2",
   "metadata": {},
   "outputs": [
    {
     "name": "stdout",
     "output_type": "stream",
     "text": [
      "[[1 2]\n",
      " [3 4]]\n",
      "[1 2 3 4]\n"
     ]
    }
   ],
   "source": [
    "#stacking\n",
    "a=np.array([1,2])\n",
    "b=np.array([3,4])\n",
    "print(np.vstack((a,b)))#vertical stack\n",
    "print(np.hstack((a,b)))#horizontal stack"
   ]
  },
  {
   "cell_type": "code",
   "execution_count": 38,
   "id": "a36c2631",
   "metadata": {},
   "outputs": [
    {
     "name": "stdout",
     "output_type": "stream",
     "text": [
      "[array([1, 2]), array([3, 4]), array([5, 6])]\n"
     ]
    }
   ],
   "source": [
    "#splitting\n",
    "arr = np.array([1,2,3,4,5,6])\n",
    "print(np.array_split(arr,3))"
   ]
  },
  {
   "cell_type": "code",
   "execution_count": 39,
   "id": "260765f8",
   "metadata": {},
   "outputs": [
    {
     "name": "stdout",
     "output_type": "stream",
     "text": [
      "[10  2  3]\n",
      "[10  2  3]\n"
     ]
    }
   ],
   "source": [
    "#copy and view\n",
    "# copy does not share memory but view shares memory\n",
    "arr = np.array([1,2,3])\n",
    "view=arr.view()\n",
    "view[0]=10\n",
    "print(arr)\n",
    "\n",
    "copy = arr.copy()\n",
    "copy[0]=100\n",
    "print(arr)"
   ]
  },
  {
   "cell_type": "code",
   "execution_count": 40,
   "id": "aadadd53",
   "metadata": {},
   "outputs": [],
   "source": [
    "# saving and loading\n",
    "# save to a file\n",
    "arr= np.array([1,2,3])\n",
    "np.save('array.npy',arr)"
   ]
  },
  {
   "cell_type": "code",
   "execution_count": 41,
   "id": "eab6c8c3",
   "metadata": {},
   "outputs": [
    {
     "name": "stdout",
     "output_type": "stream",
     "text": [
      "[1 2 3]\n"
     ]
    }
   ],
   "source": [
    "#load from a file\n",
    "loaded_arr = np.load('array.npy')\n",
    "print(loaded_arr)"
   ]
  },
  {
   "cell_type": "code",
   "execution_count": null,
   "id": "6e12dd85",
   "metadata": {},
   "outputs": [],
   "source": []
  }
 ],
 "metadata": {
  "kernelspec": {
   "display_name": "Python 3 (ipykernel)",
   "language": "python",
   "name": "python3"
  },
  "language_info": {
   "codemirror_mode": {
    "name": "ipython",
    "version": 3
   },
   "file_extension": ".py",
   "mimetype": "text/x-python",
   "name": "python",
   "nbconvert_exporter": "python",
   "pygments_lexer": "ipython3",
   "version": "3.11.5"
  }
 },
 "nbformat": 4,
 "nbformat_minor": 5
}
